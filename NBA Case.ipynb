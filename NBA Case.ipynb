{
 "cells": [
  {
   "cell_type": "markdown",
   "metadata": {},
   "source": [
    "## 2-a\n",
    "\n",
    "For an upcoming presentation, you are asked to predict total gate revenue for the entire NBA Playoffs. You should use the win probabilities data and the Hypothetical Playoff Gate Data to answer part b of the question.\n",
    "a) As a primer, let’s think about an individual series. Team East1 plays Team East8 in the First Round. Suppose the probability that East1 defeats East8 at home (8 @ 1) is p_H, and the probability that East1 defeats East8 on the road (1 @ 8) is p_A. In terms of p_H and p_A, what is the probability that the series goes exactly N games for N in {4,5,6,7}, regardless of winner? Please give closed-form analytical solutions."
   ]
  },
  {
   "cell_type": "code",
   "execution_count": 6,
   "metadata": {
    "collapsed": true
   },
   "outputs": [],
   "source": [
    "from random import randint\n",
    "def simulation():\n",
    "\n",
    "    n = int(raw_input(\"input the number of simulations: \"))\n",
    "    x = 0\n",
    "    \n",
    "    for i in range(n):\n",
    "    \n",
    "        Season_game = 41\n",
    "        possibility = 75\n",
    "        continued = 0\n",
    "        penalty = 0\n",
    "\n",
    "        while Season_game > 0:\n",
    "\n",
    "            if randint(0,100) > 75:\n",
    "                continued = continued + 1\n",
    "            else:\n",
    "                continued = 0\n",
    "\n",
    "            if continued == 3:\n",
    "                penalty = 1\n",
    "                x = x + 1\n",
    "                break\n",
    "\n",
    "            Season_game = Season_game - 1\n",
    "    \n",
    "    return 1 - (x/float(n))"
   ]
  },
  {
   "cell_type": "code",
   "execution_count": 7,
   "metadata": {},
   "outputs": [
    {
     "name": "stdout",
     "output_type": "stream",
     "text": [
      "input the number of simulations: 1000\n"
     ]
    },
    {
     "data": {
      "text/plain": [
       "0.628"
      ]
     },
     "execution_count": 7,
     "metadata": {},
     "output_type": "execute_result"
    }
   ],
   "source": [
    "simulation()"
   ]
  },
  {
   "cell_type": "markdown",
   "metadata": {},
   "source": [
    "## 2-b\n",
    "\n",
    "Now suppose that the regular season has just concluded and the NBA playoff picture is set. Team Finance has forecasted gate revenue per game for every team in each possible round – these per-game forecasts for each (team, round) combination are given in the Hypothetical Playoff Gate Data tab in the attached Excel file. Further suppose you are given win_probabilities.csv, which describes the probability that a given team defeats any other team, either at home or on the road. (The format of the probabilities in each row may not be standard.) Note that there is no re-seeding in the NBA Playoffs and that each series follows a 2-2-1-1-1 format. If equal seeds make the Finals, suppose the West team has home court advantage; otherwise, suppose the better seed has home court. Build a playoff simulator that tracks gate revenue using this data. (Assume each game is independent.) Please include any code or any additional materials you used to build your simulator in a zip folder."
   ]
  },
  {
   "cell_type": "code",
   "execution_count": 8,
   "metadata": {
    "collapsed": true
   },
   "outputs": [],
   "source": [
    "import pandas as pd\n",
    "import numpy\n",
    "from pandas import *\n",
    "from collections import Counter\n",
    "import xlrd"
   ]
  },
  {
   "cell_type": "code",
   "execution_count": 9,
   "metadata": {
    "collapsed": true
   },
   "outputs": [],
   "source": [
    "probabilities = pd.ExcelFile(\"win_probabilities.xlsx\", sheetname=None)\n",
    "dfs = probabilities.parse('win_probabilities.csv')"
   ]
  },
  {
   "cell_type": "code",
   "execution_count": 10,
   "metadata": {
    "collapsed": true
   },
   "outputs": [],
   "source": [
    "a = numpy.zeros(shape=(16,16))\n",
    "df = pd.DataFrame(a)\n",
    "one_wins_home = dfs['Prob1WinsHome'].tolist()\n",
    "one_wins_away = dfs['Prob1WinsAway'].tolist()"
   ]
  },
  {
   "cell_type": "code",
   "execution_count": 11,
   "metadata": {
    "collapsed": true
   },
   "outputs": [],
   "source": [
    "q = len(one_wins_home)\n",
    "m =0\n",
    "n =1\n",
    "\n",
    "for l in range(q):\n",
    "    df.iat[m, n+m] = one_wins_home[l]\n",
    "    if (15-n-m)!=0:\n",
    "        n = n+1\n",
    "    else:\n",
    "        m = m+1\n",
    "        n = 1"
   ]
  },
  {
   "cell_type": "code",
   "execution_count": 12,
   "metadata": {
    "collapsed": true
   },
   "outputs": [],
   "source": [
    "q = len(one_wins_away)\n",
    "m =0\n",
    "n =1\n",
    "\n",
    "for l in range(q):\n",
    "    df.iat[n+m, m] = one_wins_away[l]\n",
    "    if (15-n-m)!=0:\n",
    "        n = n+1\n",
    "    else:\n",
    "        m = m+1\n",
    "        n = 1"
   ]
  },
  {
   "cell_type": "code",
   "execution_count": 13,
   "metadata": {
    "collapsed": true
   },
   "outputs": [],
   "source": [
    "revenues = pd.ExcelFile(\"Business-Track-Application-Datasets.xlsx\", sheetname='Hypothetical Playoff Gate Data')\n",
    "rev_df = revenues.parse('Hypothetical Playoff Gate Data')\n",
    "revenue_df = rev_df.drop('Unnamed: 0', 1)\n",
    "rev = revenue_df.rename(columns={'HomeTeam':'0','Round1_Gate':1,'Round2_Gate':'2', 'Round3_Gate':'3', 'Round4_Gate': '4'})\n",
    "revenue = rev.drop('0',1)"
   ]
  },
  {
   "cell_type": "code",
   "execution_count": 14,
   "metadata": {
    "collapsed": true
   },
   "outputs": [],
   "source": [
    "game = {'H1': 0, 'H2': 0, 'A1': 0, 'A2': 0, 'H3': 0, 'A3': 0, 'H4': 0}\n",
    "team1 = []\n",
    "team2 = []"
   ]
  },
  {
   "cell_type": "code",
   "execution_count": 15,
   "metadata": {
    "collapsed": true
   },
   "outputs": [],
   "source": [
    "team1 = list(range(1,9))\n",
    "team2 = list(range(1,9))"
   ]
  },
  {
   "cell_type": "code",
   "execution_count": 16,
   "metadata": {
    "collapsed": true
   },
   "outputs": [],
   "source": [
    "## Forming pairs for each round\n",
    "## Comp1 and Comp2 will always have Comp1 as home team for 1st match and Comp2 as away \n",
    "def east(round_now = 1, next_team = list(range(1,9))):\n",
    "    c1 = []\n",
    "    c2 = []    \n",
    "    new_team1 = []\n",
    "    rev_east = 0\n",
    "    team1 = next_team\n",
    "    \n",
    "    for i in range(len(team1)):\n",
    "        comp1 = team1[i]\n",
    "        c1.append(comp1)\n",
    "        comp2 = team1[len(team1)-i-1]\n",
    "        c2.append(comp2)\n",
    "        if comp2<comp1:\n",
    "            temp = comp2\n",
    "            comp2= comp1\n",
    "            comp1= temp\n",
    "        (most_wins,rev_match) = rev_team_east(round_now,comp1,comp2)\n",
    "        new_team1.append(most_wins)\n",
    "        \n",
    "        rev_east = rev_east + rev_match\n",
    "        if (team1[i]==team1[len(team1)-i-2]):\n",
    "            break\n",
    "\n",
    "    return (new_team1, rev_east)"
   ]
  },
  {
   "cell_type": "code",
   "execution_count": 17,
   "metadata": {
    "collapsed": true
   },
   "outputs": [],
   "source": [
    "##Forming pairs for each round\n",
    "## Comp1 and Comp2 will always have Comp1 as home team for 1st match and Comp2 as away \n",
    "def west(round_now = 1, next_team = list(range(1,9))):\n",
    "    c1 = []\n",
    "    c2 = []\n",
    "    new_team2 = []\n",
    "    rev_west = 0\n",
    "    team2 = next_team\n",
    "    for i in range(len(team2)):\n",
    "        comp1 = team2[i]\n",
    "        c1.append(comp1)\n",
    "        comp2 = team2[len(team2)-i-1]\n",
    "        c2.append(comp2)\n",
    "        if comp2<comp1:\n",
    "            temp = comp2\n",
    "            comp2= comp1\n",
    "            comp1= temp\n",
    "        (most_wins,rev_match) = rev_team_west(round_now,comp1,comp2)\n",
    "        new_team2.append(most_wins)\n",
    "        rev_west = rev_west + rev_match\n",
    "\n",
    "        if (team2[i]==team2[len(team2)-i-2]):\n",
    "            break\n",
    "\n",
    "    return (new_team2, rev_west)"
   ]
  },
  {
   "cell_type": "code",
   "execution_count": 18,
   "metadata": {
    "collapsed": true
   },
   "outputs": [],
   "source": [
    "def rev_team_east(round_now,comp1,comp2):\n",
    "    home = 0\n",
    "    away = 0\n",
    "    wins = []\n",
    "    new_comp_list = []\n",
    "\n",
    "    u = 1\n",
    "    while u <= 7:\n",
    "        q = np.arange(0.0, 1.0, 0.01)\n",
    "        rand_prob = np.random.choice(q)\n",
    "        if u in (1,2,5,7):\n",
    "            t = df.at[(comp1-1),(comp2-1)]\n",
    "            if t>rand_prob:\n",
    "                winner = comp1\n",
    "            else:\n",
    "                winner = comp2\n",
    "            wins.append(winner)\n",
    "            home = home + 1\n",
    "        else:\n",
    "            t = df.at[(comp2-1),(comp1-1)]\n",
    "            if t>rand_prob:\n",
    "                winner = comp1\n",
    "            else:\n",
    "                winner = comp2\n",
    "            wins.append(winner)\n",
    "            away = away + 1\n",
    "        most_wins,num_most_wins = Counter(wins).most_common(1)[0] # whos winning, winning count so far times\n",
    "        if num_most_wins==4:\n",
    "            break\n",
    "        u = u + 1\n",
    "\n",
    "\n",
    "        \n",
    "    #return most_wins   # append this to create new list\n",
    "    rev_match = (home * revenue.iat[(comp1-1),(round_now-1)]) + (away * revenue.iat[(comp2-1),(round_now-1)])  ## round that is going on\n",
    "    return (most_wins, rev_match)  # add this to calc revenue for a round"
   ]
  },
  {
   "cell_type": "code",
   "execution_count": 19,
   "metadata": {
    "collapsed": true
   },
   "outputs": [],
   "source": [
    "def rev_team_west(round_now,comp1,comp2):\n",
    "    home = 0\n",
    "    away = 0\n",
    "    wins = []\n",
    "    new_comp_list = []\n",
    "    u = 1\n",
    "    while u <= 7:\n",
    "        q = np.arange(0.0, 1.0, 0.01)\n",
    "        rand_prob = np.random.choice(q)\n",
    "        if u in (1,2,5,7):\n",
    "            t = df.at[(comp1-1+8),(comp2-1+8)]\n",
    "            if t>rand_prob:\n",
    "                winner = comp1\n",
    "            else:\n",
    "                winner = comp2\n",
    "            wins.append(winner)\n",
    "            home = home + 1\n",
    "        else:\n",
    "            t = df.at[(comp2-1+8),(comp1-1+8)]\n",
    "            if t>rand_prob:\n",
    "                winner = comp1\n",
    "            else:\n",
    "                winner = comp2\n",
    "            wins.append(winner)\n",
    "            away = away + 1\n",
    "        most_wins,num_most_wins = Counter(wins).most_common(1)[0] # whos winning, winning count so far times\n",
    "        if num_most_wins==4:\n",
    "            break\n",
    "        u = u + 1\n",
    "        #return most_wins   # append this to create new list\n",
    "    rev_match = (home * revenue.iat[(comp1-1+8),(round_now-1)]) + (away * revenue.iat[(comp2-1+8),(round_now-1)])  ## round that is going on\n",
    "    return (most_wins, rev_match)  # add this to calc revenue for a round"
   ]
  },
  {
   "cell_type": "code",
   "execution_count": 20,
   "metadata": {
    "collapsed": true
   },
   "outputs": [],
   "source": [
    "def rev_team_WH(round_now,comp1,comp2):\n",
    "    home = 0\n",
    "    away = 0\n",
    "    wins = []\n",
    "    new_comp_list = []\n",
    "    u = 1\n",
    "    while u <= 7:\n",
    "        q = np.arange(0.0, 1.0, 0.01)\n",
    "        rand_prob = np.random.choice(q)\n",
    "        if u in (1,2,5,7):\n",
    "            t = df.at[(comp1-1+8),(comp2-1)]\n",
    "            if t>rand_prob:\n",
    "                winner = comp1\n",
    "            else:\n",
    "                winner = comp2\n",
    "            wins.append(winner)\n",
    "            home = home + 1\n",
    "        else:\n",
    "            t = df.at[(comp2-1),(comp1-1+8)]\n",
    "            if t>rand_prob:\n",
    "                winner = comp1\n",
    "            else:\n",
    "                winner = comp2\n",
    "            wins.append(winner)\n",
    "            away = away + 1\n",
    "        most_wins,num_most_wins = Counter(wins).most_common(1)[0] # whos winning, winning count so far times\n",
    "        if num_most_wins==4:\n",
    "            break\n",
    "        u = u + 1\n",
    "        #return most_wins   # append this to create new list\n",
    "    rev_match = (home * revenue.iat[(comp1-1+8),(round_now-1)]) + (away * revenue.iat[(comp2-1),(round_now-1)])  ## round that is going on\n",
    "    return (most_wins, rev_match)  # add this to calc revenue for a round"
   ]
  },
  {
   "cell_type": "code",
   "execution_count": 21,
   "metadata": {
    "collapsed": true
   },
   "outputs": [],
   "source": [
    "def rev_team_WA(round_now,comp1,comp2):\n",
    "    home = 0\n",
    "    away = 0\n",
    "    wins = []\n",
    "    new_comp_list = []\n",
    "    u = 1\n",
    "    while u <= 7:\n",
    "        q = np.arange(0.0, 1.0, 0.01)\n",
    "        rand_prob = np.random.choice(q)\n",
    "        if u in (1,2,5,7):\n",
    "            t = df.at[(comp2-1),(comp1-1+8)]\n",
    "            if t>rand_prob:\n",
    "                winner = comp1\n",
    "            else:\n",
    "                winner = comp2\n",
    "            wins.append(winner)\n",
    "            home = home + 1\n",
    "        else:\n",
    "            t = df.at[(comp1-1+8),(comp2-1)]\n",
    "            if t>rand_prob:\n",
    "                winner = comp1\n",
    "            else:\n",
    "                winner = comp2\n",
    "            wins.append(winner)\n",
    "            away = away + 1\n",
    "        most_wins,num_most_wins = Counter(wins).most_common(1)[0] # whos winning, winning count so far times\n",
    "        if num_most_wins==4:\n",
    "            break\n",
    "        u = u + 1\n",
    "\n",
    "    #return most_wins   # append this to create new list\n",
    "    rev_match = (home * revenue.iat[(comp1-1+8),(round_now-1)]) + (away * revenue.iat[(comp2-1),(round_now-1)])  ## round that is going on\n",
    "    return (most_wins, rev_match)  # add this to calc revenue for a round"
   ]
  },
  {
   "cell_type": "code",
   "execution_count": 22,
   "metadata": {
    "collapsed": true
   },
   "outputs": [],
   "source": [
    "total_stack = []\n",
    "e1_stack = []\n",
    "e2_stack = []\n",
    "e3_stack = []\n",
    "w1_stack = []\n",
    "w2_stack = []\n",
    "w3_stack = []\n",
    "final_stack = []\n",
    "east_4_5 = []\n",
    "\n",
    "east_final = []\n",
    "west_final = []\n",
    "\n",
    "for i in range(10000):\n",
    "    \n",
    "    \n",
    "    \n",
    "    (new_team_one, rev_e1) = east()\n",
    "    (new_team_two, rev_w1) = west()\n",
    "    \n",
    "    # def round_run(new_team_one, new_team_two):    \n",
    "    #     for j in range(2,4):\n",
    "    c1 = new_team_one\n",
    "    c2 = new_team_two\n",
    "    \n",
    "    east_4_5.append(c2[3])\n",
    "    \n",
    "    (d1,rev_e2) = east(2, c1)\n",
    "    (d2,rev_w2) = west(2, c2)\n",
    "    (e1, rev_e3) = east(3, d1)\n",
    "    (e2, rev_w3) = west(3, d2)\n",
    "\n",
    "    comp1 = e2[0]         ## West has preference over east if they are equal seeded\n",
    "    comp2 = e1[0]\n",
    "    \n",
    "    east_final.append(comp1)\n",
    "    west_final.append(comp2)\n",
    "    \n",
    "    if comp2<comp1:\n",
    "        temp = comp2\n",
    "        comp2= comp1\n",
    "        comp1= temp\n",
    "    if comp1 == e2[0]:\n",
    "        (most_wins,rev_final) = rev_team_WH(4,comp1,comp2)\n",
    "    else:\n",
    "        (most_wins,rev_final) = rev_team_WA(4,comp1,comp2)\n",
    "    total_revenue = rev_final+ rev_e1+ rev_e2+ rev_e3+ rev_w1+ rev_w2+ rev_w3\n",
    "    total_stack.append(total_revenue)\n",
    "    e1_stack.append(rev_e1)\n",
    "    e2_stack.append(rev_e2)\n",
    "    e3_stack.append(rev_e3)\n",
    "    w1_stack.append(rev_w1)\n",
    "    w2_stack.append(rev_w2)\n",
    "    w3_stack.append(rev_w3)\n",
    "    final_stack.append(rev_final)"
   ]
  },
  {
   "cell_type": "code",
   "execution_count": 23,
   "metadata": {},
   "outputs": [
    {
     "data": {
      "text/plain": [
       "231686190.76541284"
      ]
     },
     "execution_count": 23,
     "metadata": {},
     "output_type": "execute_result"
    }
   ],
   "source": [
    "np.mean(total_stack)"
   ]
  },
  {
   "cell_type": "markdown",
   "metadata": {},
   "source": [
    "We built up a simulation model to estimate the revenue through an entire play-off. From 10,000 iteration, the estimated revenue from the play-off is about $231,765,415."
   ]
  },
  {
   "cell_type": "markdown",
   "metadata": {},
   "source": [
    "## 2-c\n",
    "\n",
    "How do you propose to present a solution to the team? You want to ensure the team understands that there is a relatively wide distribution of possible outcomes. What is the solution?"
   ]
  },
  {
   "cell_type": "code",
   "execution_count": 24,
   "metadata": {},
   "outputs": [
    {
     "data": {
      "text/plain": [
       "<matplotlib.text.Text at 0x115659990>"
      ]
     },
     "execution_count": 24,
     "metadata": {},
     "output_type": "execute_result"
    },
    {
     "data": {
      "image/png": "[encoded data removed]",
      "text/plain": [
       "<matplotlib.figure.Figure at 0x10f99e910>"
      ]
     },
     "metadata": {},
     "output_type": "display_data"
    }
   ],
   "source": [
    "import matplotlib.pyplot as plt\n",
    "%matplotlib inline\n",
    "import seaborn as sns\n",
    "\n",
    "fig = sns.distplot(total_stack, kde = False)\n",
    "\n",
    "fig.figure.suptitle(\"Simulation results\", fontsize = 18)\n",
    "\n",
    "plt.xlabel('Revenue generated (in )', fontsize=10)\n",
    "plt.ylabel('# Simulations', fontsize=10)"
   ]
  },
  {
   "cell_type": "markdown",
   "metadata": {},
   "source": [
    "We have generated a histogram, since it is the best way to show a shape and rage of distribution.\n",
    "\n",
    "Moreover, we've investigated the root cause of this wide range of distribution by using boxplots. At the round 2 and 3 in East, and at the round 3 in West have a wider range of distribution compared to other series."
   ]
  },
  {
   "cell_type": "code",
   "execution_count": 25,
   "metadata": {
    "collapsed": true
   },
   "outputs": [],
   "source": [
    "e1_stack = pd.DataFrame(e1_stack)\n",
    "e1_stack[\"Match\"] = \"e1\"\n",
    "\n",
    "e2_stack = pd.DataFrame(e2_stack)\n",
    "e2_stack[\"Match\"] = \"e2\"\n",
    "\n",
    "e3_stack = pd.DataFrame(e3_stack)\n",
    "e3_stack[\"Match\"] = \"e3\"\n",
    "\n",
    "w1_stack = pd.DataFrame(w1_stack)\n",
    "w1_stack[\"Match\"] = \"w1\"\n",
    "\n",
    "w2_stack = pd.DataFrame(w2_stack)\n",
    "w2_stack[\"Match\"] = \"w2\"\n",
    "\n",
    "w3_stack = pd.DataFrame(w3_stack)\n",
    "w3_stack[\"Match\"] = \"w3\"\n",
    "\n",
    "final_stack = pd.DataFrame(final_stack)\n",
    "final_stack[\"Match\"] = \"final\"\n",
    "\n",
    "total = e1_stack.append(e2_stack)\n",
    "total = total.append(e3_stack)\n",
    "total = total.append(w1_stack)\n",
    "total = total.append(w2_stack)\n",
    "total = total.append(w3_stack)\n",
    "total = total.append(final_stack)\n",
    "\n",
    "total = total.rename(columns={0: 'revenue'})"
   ]
  },
  {
   "cell_type": "code",
   "execution_count": 26,
   "metadata": {},
   "outputs": [
    {
     "data": {
      "image/png": "[encoded data removed]",
      "text/plain": [
       "<matplotlib.figure.Figure at 0x115816810>"
      ]
     },
     "metadata": {},
     "output_type": "display_data"
    }
   ],
   "source": [
    "ax = sns.boxplot(x=\"Match\", y=\"revenue\", data=total)"
   ]
  },
  {
   "cell_type": "markdown",
   "metadata": {},
   "source": [
    "## 2-d"
   ]
  },
  {
   "cell_type": "markdown",
   "metadata": {},
   "source": [
    "### What is the probability that West1 meets East1 in the Finals? "
   ]
  },
  {
   "cell_type": "code",
   "execution_count": 27,
   "metadata": {
    "collapsed": true
   },
   "outputs": [],
   "source": [
    "n = 0\n",
    "rev_d4 = []\n",
    "\n",
    "\n",
    "\n",
    "for i in range(len(final_stack)):\n",
    "    if east_final[i] == 1 & west_final[i] == 1:\n",
    "        n = n+1\n",
    "        rev_d4.append(total_stack[i])\n",
    "        "
   ]
  },
  {
   "cell_type": "code",
   "execution_count": 28,
   "metadata": {},
   "outputs": [
    {
     "data": {
      "text/plain": [
       "0.4404"
      ]
     },
     "execution_count": 28,
     "metadata": {},
     "output_type": "execute_result"
    }
   ],
   "source": [
    "n / float(len(final_stack))"
   ]
  },
  {
   "cell_type": "markdown",
   "metadata": {},
   "source": [
    "#### The probability that West1 meets East1 in the Finals is about 45%"
   ]
  },
  {
   "cell_type": "markdown",
   "metadata": {},
   "source": [
    "### What is the expected total Playoffs gate revenue if West1 meets East1 in the Finals?"
   ]
  },
  {
   "cell_type": "code",
   "execution_count": 29,
   "metadata": {},
   "outputs": [
    {
     "data": {
      "text/plain": [
       "233448393.91919911"
      ]
     },
     "execution_count": 29,
     "metadata": {},
     "output_type": "execute_result"
    }
   ],
   "source": [
    "np.mean(rev_d4)"
   ]
  },
  {
   "cell_type": "markdown",
   "metadata": {},
   "source": [
    "#### The expected revenue from the entire Playoffs is about $23,359,623"
   ]
  },
  {
   "cell_type": "markdown",
   "metadata": {},
   "source": [
    "### What if West1 does not meet East1 in the Finals?"
   ]
  },
  {
   "cell_type": "code",
   "execution_count": 30,
   "metadata": {
    "collapsed": true
   },
   "outputs": [],
   "source": [
    "n = 0\n",
    "rev_d4 = []\n",
    "\n",
    "for i in range(len(final_stack)):\n",
    "    if east_final[i] != 1 & west_final[i] == 1:\n",
    "        n = n+1\n",
    "        rev_d4.append(total_stack[i])"
   ]
  },
  {
   "cell_type": "code",
   "execution_count": 31,
   "metadata": {},
   "outputs": [
    {
     "data": {
      "text/plain": [
       "0.228"
      ]
     },
     "execution_count": 31,
     "metadata": {},
     "output_type": "execute_result"
    }
   ],
   "source": [
    "n / float(len(final_stack))"
   ]
  },
  {
   "cell_type": "code",
   "execution_count": 32,
   "metadata": {},
   "outputs": [
    {
     "data": {
      "text/plain": [
       "231803331.35628787"
      ]
     },
     "execution_count": 32,
     "metadata": {},
     "output_type": "execute_result"
    }
   ],
   "source": [
    "np.mean(rev_d4)"
   ]
  },
  {
   "cell_type": "markdown",
   "metadata": {},
   "source": [
    "#### The probability is about 22%, and the expected revenue is about $232,202,120"
   ]
  },
  {
   "cell_type": "markdown",
   "metadata": {},
   "source": [
    "### How does your solution change if – independent of all other series – East5 defeats East4 in the First Round?"
   ]
  },
  {
   "cell_type": "code",
   "execution_count": 33,
   "metadata": {
    "collapsed": true
   },
   "outputs": [],
   "source": [
    "n = 0\n",
    "rev_e5 = []\n",
    "\n",
    "for i in range(len(final_stack)):\n",
    "    if east_4_5[i] == 5:\n",
    "        rev_e5.append(total_stack[i])"
   ]
  },
  {
   "cell_type": "code",
   "execution_count": 34,
   "metadata": {},
   "outputs": [
    {
     "data": {
      "text/plain": [
       "232973843.61647251"
      ]
     },
     "execution_count": 34,
     "metadata": {},
     "output_type": "execute_result"
    }
   ],
   "source": [
    "np.mean(rev_e5)"
   ]
  },
  {
   "cell_type": "markdown",
   "metadata": {
    "collapsed": true
   },
   "source": [
    "#### The expected revenue is decreasing to about $233,870,721, which is similar to the original value. Even though East5 generates higher revenue than East4, at the next round the possiblity that East2 or East3 wins againast East5 is much higher than that against East4, which generates much lower revenue, the expected revenue is simliar to the initial value."
   ]
  }
 ],
 "metadata": {
  "kernelspec": {
   "display_name": "Python 2",
   "language": "python",
   "name": "python2"
  },
  "language_info": {
   "codemirror_mode": {
    "name": "ipython",
    "version": 2
   },
   "file_extension": ".py",
   "mimetype": "text/x-python",
   "name": "python",
   "nbconvert_exporter": "python",
   "pygments_lexer": "ipython2",
   "version": "2.7.13"
  }
 },
 "nbformat": 4,
 "nbformat_minor": 2
}
